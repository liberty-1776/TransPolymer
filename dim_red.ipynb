{
 "cells": [
  {
   "cell_type": "code",
   "execution_count": 1,
   "id": "abd74674",
   "metadata": {},
   "outputs": [],
   "source": [
    "import pandas as pd\n",
    "import numpy as np\n",
    "from openTSNE import TSNE\n",
    "import ast\n",
    "from sklearn.decomposition import PCA"
   ]
  },
  {
   "cell_type": "code",
   "execution_count": 2,
   "id": "e57719f1",
   "metadata": {
    "scrolled": false
   },
   "outputs": [
    {
     "data": {
      "text/html": [
       "<div>\n",
       "<style scoped>\n",
       "    .dataframe tbody tr th:only-of-type {\n",
       "        vertical-align: middle;\n",
       "    }\n",
       "\n",
       "    .dataframe tbody tr th {\n",
       "        vertical-align: top;\n",
       "    }\n",
       "\n",
       "    .dataframe thead th {\n",
       "        text-align: right;\n",
       "    }\n",
       "</style>\n",
       "<table border=\"1\" class=\"dataframe\">\n",
       "  <thead>\n",
       "    <tr style=\"text-align: right;\">\n",
       "      <th></th>\n",
       "      <th>fingerprint</th>\n",
       "      <th>pred_out</th>\n",
       "      <th>orig_out</th>\n",
       "    </tr>\n",
       "  </thead>\n",
       "  <tbody>\n",
       "    <tr>\n",
       "      <th>0</th>\n",
       "      <td>[0.8330792784690857, -0.3632080554962158, -0.7...</td>\n",
       "      <td>[1.3087661266326904]</td>\n",
       "      <td>6.8972</td>\n",
       "    </tr>\n",
       "    <tr>\n",
       "      <th>1</th>\n",
       "      <td>[1.2435529232025146, 0.2591331899166107, -0.45...</td>\n",
       "      <td>[1.318904161453247]</td>\n",
       "      <td>6.5196</td>\n",
       "    </tr>\n",
       "    <tr>\n",
       "      <th>2</th>\n",
       "      <td>[1.2031919956207275, 0.31972840428352356, -0.0...</td>\n",
       "      <td>[1.2189847230911255]</td>\n",
       "      <td>6.5170</td>\n",
       "    </tr>\n",
       "    <tr>\n",
       "      <th>3</th>\n",
       "      <td>[1.1452940702438354, 0.3967324495315552, 0.166...</td>\n",
       "      <td>[1.2669352293014526]</td>\n",
       "      <td>6.7336</td>\n",
       "    </tr>\n",
       "    <tr>\n",
       "      <th>4</th>\n",
       "      <td>[0.8872454762458801, 0.2590108811855316, -0.30...</td>\n",
       "      <td>[1.3321956396102905]</td>\n",
       "      <td>6.7394</td>\n",
       "    </tr>\n",
       "    <tr>\n",
       "      <th>...</th>\n",
       "      <td>...</td>\n",
       "      <td>...</td>\n",
       "      <td>...</td>\n",
       "    </tr>\n",
       "    <tr>\n",
       "      <th>3375</th>\n",
       "      <td>[1.285409688949585, -0.25242283940315247, 0.70...</td>\n",
       "      <td>[-0.6059192419052124]</td>\n",
       "      <td>3.3666</td>\n",
       "    </tr>\n",
       "    <tr>\n",
       "      <th>3376</th>\n",
       "      <td>[-0.8035809993743896, -0.03701617196202278, 0....</td>\n",
       "      <td>[-2.8714568614959717]</td>\n",
       "      <td>0.2161</td>\n",
       "    </tr>\n",
       "    <tr>\n",
       "      <th>3377</th>\n",
       "      <td>[-0.7690911293029785, 0.009422944858670235, 0....</td>\n",
       "      <td>[-2.8656272888183594]</td>\n",
       "      <td>0.1032</td>\n",
       "    </tr>\n",
       "    <tr>\n",
       "      <th>3378</th>\n",
       "      <td>[-0.7635099291801453, -0.0782494992017746, 0.7...</td>\n",
       "      <td>[-2.80714750289917]</td>\n",
       "      <td>0.1771</td>\n",
       "    </tr>\n",
       "    <tr>\n",
       "      <th>3379</th>\n",
       "      <td>[0.5745391845703125, -0.28539127111434937, 0.3...</td>\n",
       "      <td>[-1.2244603633880615]</td>\n",
       "      <td>2.2084</td>\n",
       "    </tr>\n",
       "  </tbody>\n",
       "</table>\n",
       "<p>3380 rows × 3 columns</p>\n",
       "</div>"
      ],
      "text/plain": [
       "                                            fingerprint  \\\n",
       "0     [0.8330792784690857, -0.3632080554962158, -0.7...   \n",
       "1     [1.2435529232025146, 0.2591331899166107, -0.45...   \n",
       "2     [1.2031919956207275, 0.31972840428352356, -0.0...   \n",
       "3     [1.1452940702438354, 0.3967324495315552, 0.166...   \n",
       "4     [0.8872454762458801, 0.2590108811855316, -0.30...   \n",
       "...                                                 ...   \n",
       "3375  [1.285409688949585, -0.25242283940315247, 0.70...   \n",
       "3376  [-0.8035809993743896, -0.03701617196202278, 0....   \n",
       "3377  [-0.7690911293029785, 0.009422944858670235, 0....   \n",
       "3378  [-0.7635099291801453, -0.0782494992017746, 0.7...   \n",
       "3379  [0.5745391845703125, -0.28539127111434937, 0.3...   \n",
       "\n",
       "                   pred_out  orig_out  \n",
       "0      [1.3087661266326904]    6.8972  \n",
       "1       [1.318904161453247]    6.5196  \n",
       "2      [1.2189847230911255]    6.5170  \n",
       "3      [1.2669352293014526]    6.7336  \n",
       "4      [1.3321956396102905]    6.7394  \n",
       "...                     ...       ...  \n",
       "3375  [-0.6059192419052124]    3.3666  \n",
       "3376  [-2.8714568614959717]    0.2161  \n",
       "3377  [-2.8656272888183594]    0.1032  \n",
       "3378    [-2.80714750289917]    0.1771  \n",
       "3379  [-1.2244603633880615]    2.2084  \n",
       "\n",
       "[3380 rows x 3 columns]"
      ]
     },
     "execution_count": 2,
     "metadata": {},
     "output_type": "execute_result"
    }
   ],
   "source": [
    "df = pd.read_csv('mywork/result_data/Augmented/Egc/Egc_best_fingerprint.csv')\n",
    "df"
   ]
  },
  {
   "cell_type": "code",
   "execution_count": 3,
   "id": "d7a136d3",
   "metadata": {},
   "outputs": [],
   "source": [
    "df['fingerprint'] = df['fingerprint'].apply(ast.literal_eval)"
   ]
  },
  {
   "cell_type": "code",
   "execution_count": 4,
   "id": "a8d95280",
   "metadata": {},
   "outputs": [
    {
     "data": {
      "text/plain": [
       "0       [0.8330792784690857, -0.3632080554962158, -0.7...\n",
       "1       [1.2435529232025146, 0.2591331899166107, -0.45...\n",
       "2       [1.2031919956207275, 0.31972840428352356, -0.0...\n",
       "3       [1.1452940702438354, 0.3967324495315552, 0.166...\n",
       "4       [0.8872454762458801, 0.2590108811855316, -0.30...\n",
       "                              ...                        \n",
       "3375    [1.285409688949585, -0.25242283940315247, 0.70...\n",
       "3376    [-0.8035809993743896, -0.03701617196202278, 0....\n",
       "3377    [-0.7690911293029785, 0.009422944858670235, 0....\n",
       "3378    [-0.7635099291801453, -0.0782494992017746, 0.7...\n",
       "3379    [0.5745391845703125, -0.28539127111434937, 0.3...\n",
       "Name: fingerprint, Length: 3380, dtype: object"
      ]
     },
     "execution_count": 4,
     "metadata": {},
     "output_type": "execute_result"
    }
   ],
   "source": [
    "df['fingerprint']"
   ]
  },
  {
   "cell_type": "code",
   "execution_count": 5,
   "id": "2b676aa6",
   "metadata": {
    "scrolled": true
   },
   "outputs": [
    {
     "data": {
      "text/plain": [
       "3380"
      ]
     },
     "execution_count": 5,
     "metadata": {},
     "output_type": "execute_result"
    }
   ],
   "source": [
    "#embeddings = df['fingerprint'].tolist() # for pca\n",
    "embeddings = np.vstack(df['fingerprint'].values) #for tsne\n",
    "len(embeddings)"
   ]
  },
  {
   "cell_type": "code",
   "execution_count": null,
   "id": "7a9b4c06",
   "metadata": {},
   "outputs": [],
   "source": [
    "tsne = TSNE(n_components=2, random_state=41)\n",
    "tsne_components = tsne.fit(embeddings)\n",
    "#pca = PCA(n_components=2)\n",
    "#reduced_embeddings = pca.fit_transform(embeddings)"
   ]
  },
  {
   "cell_type": "code",
   "execution_count": null,
   "id": "01ec1367",
   "metadata": {},
   "outputs": [],
   "source": [
    "tsne_df = pd.DataFrame(tsne_components, columns=['tsne_1', 'tsne_2'])\n",
    "#reduced_df = pd.DataFrame(reduced_embeddings, columns=['PC1', 'PC2'])"
   ]
  },
  {
   "cell_type": "code",
   "execution_count": null,
   "id": "713403d0",
   "metadata": {},
   "outputs": [],
   "source": [
    "tsne_df\n",
    "#reduced_df"
   ]
  },
  {
   "cell_type": "code",
   "execution_count": null,
   "id": "02f986d6",
   "metadata": {},
   "outputs": [],
   "source": [
    "tsne_df['pred_out'] = df['pred_out']\n",
    "tsne_df['orig_out'] = df['orig_out']\n",
    "#reduced_df['pred_out'] = df['pred_out']\n",
    "#reduced_df['orig_out'] = df['orig_out']"
   ]
  },
  {
   "cell_type": "code",
   "execution_count": null,
   "id": "fa4a0909",
   "metadata": {},
   "outputs": [],
   "source": [
    "#reduced_df\n",
    "tsne_df"
   ]
  },
  {
   "cell_type": "code",
   "execution_count": null,
   "id": "01eed55c",
   "metadata": {},
   "outputs": [],
   "source": [
    "tsne_df.to_csv('mywork/result_data/Augmented/Egc/TSNE_Egc_best_fingerprint.csv', index=False)"
   ]
  },
  {
   "cell_type": "code",
   "execution_count": null,
   "id": "63058d36",
   "metadata": {},
   "outputs": [],
   "source": []
  }
 ],
 "metadata": {
  "kernelspec": {
   "display_name": "Python 3 (ipykernel)",
   "language": "python",
   "name": "python3"
  },
  "language_info": {
   "codemirror_mode": {
    "name": "ipython",
    "version": 3
   },
   "file_extension": ".py",
   "mimetype": "text/x-python",
   "name": "python",
   "nbconvert_exporter": "python",
   "pygments_lexer": "ipython3",
   "version": "3.9.16"
  }
 },
 "nbformat": 4,
 "nbformat_minor": 5
}
