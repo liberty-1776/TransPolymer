{
 "cells": [
  {
   "cell_type": "code",
   "execution_count": 1,
   "id": "abd74674",
   "metadata": {},
   "outputs": [],
   "source": [
    "import pandas as pd\n",
    "import numpy as np\n",
    "from openTSNE import TSNE\n",
    "import ast"
   ]
  },
  {
   "cell_type": "code",
   "execution_count": 2,
   "id": "e57719f1",
   "metadata": {
    "scrolled": false
   },
   "outputs": [
    {
     "data": {
      "text/html": [
       "<div>\n",
       "<style scoped>\n",
       "    .dataframe tbody tr th:only-of-type {\n",
       "        vertical-align: middle;\n",
       "    }\n",
       "\n",
       "    .dataframe tbody tr th {\n",
       "        vertical-align: top;\n",
       "    }\n",
       "\n",
       "    .dataframe thead th {\n",
       "        text-align: right;\n",
       "    }\n",
       "</style>\n",
       "<table border=\"1\" class=\"dataframe\">\n",
       "  <thead>\n",
       "    <tr style=\"text-align: right;\">\n",
       "      <th></th>\n",
       "      <th>fingerprint</th>\n",
       "      <th>pred_out</th>\n",
       "      <th>orig_out</th>\n",
       "    </tr>\n",
       "  </thead>\n",
       "  <tbody>\n",
       "    <tr>\n",
       "      <th>0</th>\n",
       "      <td>[-0.8549143671989441, 0.07563474029302597, -1....</td>\n",
       "      <td>[-0.06985504925251007]</td>\n",
       "      <td>6.8972</td>\n",
       "    </tr>\n",
       "    <tr>\n",
       "      <th>1</th>\n",
       "      <td>[-0.4669734537601471, -0.8146975636482239, -0....</td>\n",
       "      <td>[0.06135764345526695]</td>\n",
       "      <td>6.5196</td>\n",
       "    </tr>\n",
       "    <tr>\n",
       "      <th>2</th>\n",
       "      <td>[-0.46833327412605286, -0.6615654230117798, -0...</td>\n",
       "      <td>[0.035427916795015335]</td>\n",
       "      <td>6.5170</td>\n",
       "    </tr>\n",
       "    <tr>\n",
       "      <th>3</th>\n",
       "      <td>[-0.35044270753860474, -0.8016369938850403, -0...</td>\n",
       "      <td>[-0.0015016369288787246]</td>\n",
       "      <td>6.7336</td>\n",
       "    </tr>\n",
       "    <tr>\n",
       "      <th>4</th>\n",
       "      <td>[-0.899631679058075, -1.0210680961608887, -0.4...</td>\n",
       "      <td>[-0.013389579951763153]</td>\n",
       "      <td>6.7394</td>\n",
       "    </tr>\n",
       "    <tr>\n",
       "      <th>...</th>\n",
       "      <td>...</td>\n",
       "      <td>...</td>\n",
       "      <td>...</td>\n",
       "    </tr>\n",
       "    <tr>\n",
       "      <th>3375</th>\n",
       "      <td>[-0.025111764669418335, -0.9626762866973877, -...</td>\n",
       "      <td>[0.08875460177659988]</td>\n",
       "      <td>3.3666</td>\n",
       "    </tr>\n",
       "    <tr>\n",
       "      <th>3376</th>\n",
       "      <td>[0.5077277421951294, -2.0220606327056885, -0.1...</td>\n",
       "      <td>[0.20756693184375763]</td>\n",
       "      <td>0.2161</td>\n",
       "    </tr>\n",
       "    <tr>\n",
       "      <th>3377</th>\n",
       "      <td>[0.829918384552002, -2.096996545791626, -0.247...</td>\n",
       "      <td>[0.183742493391037]</td>\n",
       "      <td>0.1032</td>\n",
       "    </tr>\n",
       "    <tr>\n",
       "      <th>3378</th>\n",
       "      <td>[1.0541179180145264, -2.050633192062378, -0.32...</td>\n",
       "      <td>[0.18400897085666656]</td>\n",
       "      <td>0.1771</td>\n",
       "    </tr>\n",
       "    <tr>\n",
       "      <th>3379</th>\n",
       "      <td>[-0.08636853843927383, -1.6871540546417236, -0...</td>\n",
       "      <td>[0.13686232268810272]</td>\n",
       "      <td>2.2084</td>\n",
       "    </tr>\n",
       "  </tbody>\n",
       "</table>\n",
       "<p>3380 rows × 3 columns</p>\n",
       "</div>"
      ],
      "text/plain": [
       "                                            fingerprint  \\\n",
       "0     [-0.8549143671989441, 0.07563474029302597, -1....   \n",
       "1     [-0.4669734537601471, -0.8146975636482239, -0....   \n",
       "2     [-0.46833327412605286, -0.6615654230117798, -0...   \n",
       "3     [-0.35044270753860474, -0.8016369938850403, -0...   \n",
       "4     [-0.899631679058075, -1.0210680961608887, -0.4...   \n",
       "...                                                 ...   \n",
       "3375  [-0.025111764669418335, -0.9626762866973877, -...   \n",
       "3376  [0.5077277421951294, -2.0220606327056885, -0.1...   \n",
       "3377  [0.829918384552002, -2.096996545791626, -0.247...   \n",
       "3378  [1.0541179180145264, -2.050633192062378, -0.32...   \n",
       "3379  [-0.08636853843927383, -1.6871540546417236, -0...   \n",
       "\n",
       "                      pred_out  orig_out  \n",
       "0       [-0.06985504925251007]    6.8972  \n",
       "1        [0.06135764345526695]    6.5196  \n",
       "2       [0.035427916795015335]    6.5170  \n",
       "3     [-0.0015016369288787246]    6.7336  \n",
       "4      [-0.013389579951763153]    6.7394  \n",
       "...                        ...       ...  \n",
       "3375     [0.08875460177659988]    3.3666  \n",
       "3376     [0.20756693184375763]    0.2161  \n",
       "3377       [0.183742493391037]    0.1032  \n",
       "3378     [0.18400897085666656]    0.1771  \n",
       "3379     [0.13686232268810272]    2.2084  \n",
       "\n",
       "[3380 rows x 3 columns]"
      ]
     },
     "execution_count": 2,
     "metadata": {},
     "output_type": "execute_result"
    }
   ],
   "source": [
    "df = pd.read_csv('mywork/pretrain_Egc_unscaled.csv')\n",
    "df"
   ]
  },
  {
   "cell_type": "code",
   "execution_count": null,
   "id": "d7a136d3",
   "metadata": {},
   "outputs": [],
   "source": [
    "df['fingerprint'] = df['fingerprint'].apply(ast.literal_eval)"
   ]
  },
  {
   "cell_type": "code",
   "execution_count": null,
   "id": "a8d95280",
   "metadata": {},
   "outputs": [],
   "source": [
    "df['fingerprint']"
   ]
  },
  {
   "cell_type": "code",
   "execution_count": null,
   "id": "2b676aa6",
   "metadata": {
    "scrolled": true
   },
   "outputs": [],
   "source": [
    "embeddings = np.vstack(df['fingerprint'].values)\n",
    "len(embeddings)"
   ]
  },
  {
   "cell_type": "code",
   "execution_count": null,
   "id": "7a9b4c06",
   "metadata": {},
   "outputs": [],
   "source": [
    "tsne = TSNE(n_components=2, random_state=41)\n",
    "tsne_components = tsne.fit(finger_embeddings)"
   ]
  },
  {
   "cell_type": "code",
   "execution_count": null,
   "id": "01ec1367",
   "metadata": {},
   "outputs": [],
   "source": [
    "tsne_df = pd.DataFrame(tsne_components, columns=['tsne_1', 'tsne_2'])"
   ]
  },
  {
   "cell_type": "code",
   "execution_count": null,
   "id": "713403d0",
   "metadata": {},
   "outputs": [],
   "source": [
    "tsne_df"
   ]
  },
  {
   "cell_type": "code",
   "execution_count": null,
   "id": "02f986d6",
   "metadata": {},
   "outputs": [],
   "source": [
    "tsne_df['pred_out'] = df['pred_out']\n",
    "tsne_df['orig_out'] = df['orig_out']"
   ]
  },
  {
   "cell_type": "code",
   "execution_count": null,
   "id": "fa4a0909",
   "metadata": {},
   "outputs": [],
   "source": [
    "tsne_df"
   ]
  },
  {
   "cell_type": "code",
   "execution_count": null,
   "id": "01eed55c",
   "metadata": {},
   "outputs": [],
   "source": [
    "tsne_df.to_csv('mywork/tsne_pretrain_Egc_unscaled.csv', index=False)"
   ]
  },
  {
   "cell_type": "code",
   "execution_count": null,
   "id": "63058d36",
   "metadata": {},
   "outputs": [],
   "source": []
  }
 ],
 "metadata": {
  "kernelspec": {
   "display_name": "Python 3 (ipykernel)",
   "language": "python",
   "name": "python3"
  },
  "language_info": {
   "codemirror_mode": {
    "name": "ipython",
    "version": 3
   },
   "file_extension": ".py",
   "mimetype": "text/x-python",
   "name": "python",
   "nbconvert_exporter": "python",
   "pygments_lexer": "ipython3",
   "version": "3.9.16"
  }
 },
 "nbformat": 4,
 "nbformat_minor": 5
}
